{
 "cells": [
  {
   "cell_type": "code",
   "execution_count": 1,
   "metadata": {},
   "outputs": [],
   "source": [
    "import pandas as pd\n",
    "import numpy as np\n",
    "import pandas as pd\n",
    "import numpy as np\n",
    "import matplotlib.pyplot as plt"
   ]
  },
  {
   "cell_type": "code",
   "execution_count": 2,
   "metadata": {},
   "outputs": [],
   "source": [
    "# Read In Full Data\n",
    "raw_data = pd.read_parquet('/Users/jerryinyang/Code/quantbt/data/prices/BTCUSDT.parquet')\n",
    "raw_data.columns = raw_data.columns.str.lower()"
   ]
  },
  {
   "cell_type": "markdown",
   "metadata": {},
   "source": [
    "### MARKET STRUCTURE PATTERN MINING\n",
    "\n",
    "#### **Steps/Procedures**\n",
    "1. Create Dataset of Patterns: </br>\n",
    "    For this expereiment, we would assess 76 pivot points; **XABCDEF**\n",
    "    - X : Starting point\n",
    "    - ABCD : CHoCH Pattern, where CD is the Break of Structure\n",
    "    - DE : Retracement usually for entry\n",
    "    - EF (Optional) : Actual Trade (would be replaced with alternative Trade setups, e.g using targets)\n",
    "\n",
    "    Steps:\n",
    "    - Load close datapoints as an array, and take the log values\n"
   ]
  },
  {
   "cell_type": "code",
   "execution_count": 3,
   "metadata": {},
   "outputs": [
    {
     "data": {
      "text/plain": [
       "(52438,)"
      ]
     },
     "execution_count": 3,
     "metadata": {},
     "output_type": "execute_result"
    }
   ],
   "source": [
    "data = np.log(raw_data['close'].to_numpy())\n",
    "\n",
    "data.shape"
   ]
  },
  {
   "cell_type": "code",
   "execution_count": 7,
   "metadata": {},
   "outputs": [
    {
     "name": "stdout",
     "output_type": "stream",
     "text": [
      "966 ns ± 2.78 ns per loop (mean ± std. dev. of 7 runs, 1,000,000 loops each)\n"
     ]
    }
   ],
   "source": []
  }
 ],
 "metadata": {
  "kernelspec": {
   "display_name": "quantbt",
   "language": "python",
   "name": "python3"
  },
  "language_info": {
   "codemirror_mode": {
    "name": "ipython",
    "version": 3
   },
   "file_extension": ".py",
   "mimetype": "text/x-python",
   "name": "python",
   "nbconvert_exporter": "python",
   "pygments_lexer": "ipython3",
   "version": "3.10.13"
  }
 },
 "nbformat": 4,
 "nbformat_minor": 2
}
