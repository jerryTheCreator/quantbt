{
 "cells": [
  {
   "cell_type": "code",
   "execution_count": 7,
   "metadata": {},
   "outputs": [],
   "source": [
    "import pandas as pd\n",
    "import numpy as np\n",
    "import pandas as pd # noqa\n",
    "import numpy as np # noqa\n",
    "import matplotlib.pyplot as plt # noqa"
   ]
  },
  {
   "cell_type": "code",
   "execution_count": 8,
   "metadata": {},
   "outputs": [],
   "source": [
    "# Read In Full Data\n",
    "raw_data = pd.read_parquet('/Users/jerryinyang/Code/quantbt/data/prices/BTCUSDT.parquet')\n",
    "raw_data.columns = raw_data.columns.str.lower()"
   ]
  },
  {
   "cell_type": "markdown",
   "metadata": {},
   "source": [
    "### MARKET STRUCTURE PATTERN MINING\n",
    "\n",
    "#### **Steps/Procedures**\n",
    "1. Create Dataset of Patterns: </br>\n",
    "    For this expereiment, we would assess 76 pivot points; **XABCDEF**\n",
    "    - X : Starting point\n",
    "    - ABCD : CHoCH Pattern, where CD is the Break of Structure\n",
    "    - DE : Retracement usually for entry\n",
    "    - EF (Optional) : Actual Trade (would be replaced with alternative Trade setups, e.g using targets)\n",
    "\n",
    "    Steps:\n",
    "    - Load close datapoints as an array, and take the log values\n"
   ]
  },
  {
   "cell_type": "code",
   "execution_count": 13,
   "metadata": {},
   "outputs": [
    {
     "data": {
      "text/plain": [
       "True"
      ]
     },
     "execution_count": 13,
     "metadata": {},
     "output_type": "execute_result"
    }
   ],
   "source": [
    "bool(-1)"
   ]
  }
 ],
 "metadata": {
  "kernelspec": {
   "display_name": "quantbt",
   "language": "python",
   "name": "python3"
  },
  "language_info": {
   "codemirror_mode": {
    "name": "ipython",
    "version": 3
   },
   "file_extension": ".py",
   "mimetype": "text/x-python",
   "name": "python",
   "nbconvert_exporter": "python",
   "pygments_lexer": "ipython3",
   "version": "3.10.13"
  }
 },
 "nbformat": 4,
 "nbformat_minor": 2
}
