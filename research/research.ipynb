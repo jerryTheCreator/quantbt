{
 "cells": [
  {
   "cell_type": "code",
   "execution_count": 1,
   "metadata": {},
   "outputs": [],
   "source": [
    "\n",
    "import backtrader as bt\n",
    "import backtrader.feeds as btfeeds\n",
    "import matplotlib.pyplot as plt #noqa\n",
    "import numpy as np\n",
    "import warnings\n",
    "\n",
    "import datetime as datetime\n",
    "import pandas as pd\n",
    "from research import BtPipMiner, FixedPercentSizer"
   ]
  },
  {
   "cell_type": "code",
   "execution_count": 2,
   "metadata": {},
   "outputs": [],
   "source": [
    "%matplotlib inline\n",
    "warnings.filterwarnings('ignore')"
   ]
  },
  {
   "cell_type": "code",
   "execution_count": 3,
   "metadata": {},
   "outputs": [],
   "source": [
    "# Test Data\n",
    "def get_data(symbol:str):\n",
    "    symbol = symbol.upper()\n",
    "    try:\n",
    "        datapath = f'/Users/jerryinyang/Code/quantbt/data/prices/{symbol}.parquet'\n",
    "        csv = pd.read_parquet(datapath)\n",
    "        csv = np.log(csv)\n",
    "        csv.to_csv(f'/Users/jerryinyang/Code/quantbt/data/prices/{symbol}.csv', index=True)\n",
    "    except Exception:\n",
    "        ...\n",
    "\n",
    "    return f'/Users/jerryinyang/Code/quantbt/data/prices/{symbol}.csv'\n",
    "\n"
   ]
  },
  {
   "cell_type": "code",
   "execution_count": 4,
   "metadata": {},
   "outputs": [
    {
     "data": {
      "text/plain": [
       "'/Users/jerryinyang/Code/quantbt/data/prices/BTCUSDT.csv'"
      ]
     },
     "execution_count": 4,
     "metadata": {},
     "output_type": "execute_result"
    }
   ],
   "source": [
    "get_data('btcusdt')"
   ]
  },
  {
   "cell_type": "code",
   "execution_count": 5,
   "metadata": {},
   "outputs": [
    {
     "name": "stdout",
     "output_type": "stream",
     "text": [
      "Order Canceled/Margin/Rejected\n",
      "Order Canceled/Margin/Rejected\n",
      "Order Canceled/Margin/Rejected\n",
      "Order Canceled/Margin/Rejected\n",
      "Order Canceled/Margin/Rejected\n",
      "Order Canceled/Margin/Rejected\n",
      "Order Canceled/Margin/Rejected\n",
      "Order Canceled/Margin/Rejected\n",
      "Order Canceled/Margin/Rejected\n",
      "Order Canceled/Margin/Rejected\n",
      "Order Canceled/Margin/Rejected\n",
      "Order Canceled/Margin/Rejected\n",
      "Order Canceled/Margin/Rejected\n",
      "Order Canceled/Margin/Rejected\n",
      "Order Canceled/Margin/Rejected\n",
      "Order Canceled/Margin/Rejected\n",
      "Order Canceled/Margin/Rejected\n",
      "Order Canceled/Margin/Rejected\n",
      "Order Canceled/Margin/Rejected\n",
      "Order Canceled/Margin/Rejected\n",
      "Order Canceled/Margin/Rejected\n",
      "Order Canceled/Margin/Rejected\n",
      "Order Canceled/Margin/Rejected\n",
      "Order Canceled/Margin/Rejected\n",
      "Order Canceled/Margin/Rejected\n",
      "Order Canceled/Margin/Rejected\n",
      "Order Canceled/Margin/Rejected\n",
      "Order Canceled/Margin/Rejected\n",
      "Order Canceled/Margin/Rejected\n",
      "Order Canceled/Margin/Rejected\n",
      "Order Canceled/Margin/Rejected\n",
      "Order Canceled/Margin/Rejected\n",
      "Order Canceled/Margin/Rejected\n",
      "Order Canceled/Margin/Rejected\n",
      "Order Canceled/Margin/Rejected\n"
     ]
    },
    {
     "data": {
      "text/plain": [
       "[<research.BtPipMiner at 0x29cc7fd90>]"
      ]
     },
     "execution_count": 5,
     "metadata": {},
     "output_type": "execute_result"
    }
   ],
   "source": [
    "# Initialize Engine\n",
    "cerebro = bt.Cerebro()\n",
    "cerebro.broker.setcash(100000.0)\n",
    "\n",
    "data_path = get_data('btcusdt')\n",
    "\n",
    "# Add Strategy/Model\n",
    "cerebro.addstrategy(BtPipMiner, 5, 20, 6, 85, data_path)\n",
    "\n",
    "# Create a Data Feed\n",
    "data = btfeeds.GenericCSVData(\n",
    "    dataname=data_path,\n",
    "\n",
    "    fromdate=datetime.datetime(2018, 1, 1),\n",
    "    todate=datetime.datetime(2020, 12, 31),\n",
    "\n",
    "    nullvalue=0.0,\n",
    "\n",
    "    dtformat=('%Y-%m-%d %H:%M:%S'),\n",
    "    # dtformat=('%Y-%m-%d'),\n",
    "\n",
    "    datetime=0,\n",
    "    open=1,\n",
    "    high=2,\n",
    "    low=3,\n",
    "    close=4,\n",
    "    volume=5,\n",
    "    openinterest=-1,\n",
    "\n",
    "    timeframe=bt.TimeFrame.Minutes\n",
    ")\n",
    "\n",
    "cerebro.addsizer(FixedPercentSizer)\n",
    "\n",
    "# Add the Data Feed to Cerebro \n",
    "cerebro.adddata(data)\n",
    "\n",
    "cerebro.run()\n"
   ]
  },
  {
   "cell_type": "code",
   "execution_count": 8,
   "metadata": {},
   "outputs": [
    {
     "name": "stdout",
     "output_type": "stream",
     "text": [
      "Final Portfolio Value: 91001.78\n"
     ]
    }
   ],
   "source": [
    "%matplotlib inline\n",
    "# cerebro.plot(iplot=False)\n",
    "print('Final Portfolio Value: %.2f' % cerebro.broker.getvalue())"
   ]
  }
 ],
 "metadata": {
  "kernelspec": {
   "display_name": "quantbt",
   "language": "python",
   "name": "python3"
  },
  "language_info": {
   "codemirror_mode": {
    "name": "ipython",
    "version": 3
   },
   "file_extension": ".py",
   "mimetype": "text/x-python",
   "name": "python",
   "nbconvert_exporter": "python",
   "pygments_lexer": "ipython3",
   "version": "3.10.13"
  }
 },
 "nbformat": 4,
 "nbformat_minor": 2
}
